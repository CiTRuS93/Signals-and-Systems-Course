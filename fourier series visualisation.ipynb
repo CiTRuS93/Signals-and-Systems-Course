{
 "cells": [
  {
   "cell_type": "code",
   "execution_count": 1,
   "metadata": {},
   "outputs": [],
   "source": [
    "import numpy as np\n",
    "import matplotlib.pyplot as plt\n",
    "from ipywidgets import interact, interactive, fixed, interact_manual,FloatSlider, Play,IntSlider,jslink,HBox,Output\n",
    "from matplotlib.ticker import (MultipleLocator, FormatStrFormatter,\n",
    "                               AutoMinorLocator)\n",
    "from scipy import signal\n",
    "from IPython.display import (\n",
    "    Audio, display, clear_output)"
   ]
  },
  {
   "cell_type": "markdown",
   "metadata": {},
   "source": [
    "## define a class which hold a shape name, it's source and fourier series"
   ]
  },
  {
   "cell_type": "code",
   "execution_count": 2,
   "metadata": {},
   "outputs": [],
   "source": [
    "\n",
    "class fs_shape:\n",
    "    def __init__(self,name, source, fs):\n",
    "        self.name = name\n",
    "        self.source = source\n",
    "        self.fs = fs\n",
    "        "
   ]
  },
  {
   "cell_type": "markdown",
   "metadata": {},
   "source": [
    "## define our timeline, and sources functions"
   ]
  },
  {
   "cell_type": "code",
   "execution_count": 3,
   "metadata": {},
   "outputs": [],
   "source": [
    "t = np.linspace(0,4,2000) #two cycles, 100 points each\n",
    "sqwave = lambda t:np.sign(np.sin(2*np.pi*t)) #an actual square wave\n",
    "triangle =lambda t: signal.sawtooth(2 * np.pi  * t, 0.5)"
   ]
  },
  {
   "cell_type": "markdown",
   "metadata": {},
   "source": [
    "## define the fourier series function for each source"
   ]
  },
  {
   "cell_type": "code",
   "execution_count": 4,
   "metadata": {},
   "outputs": [],
   "source": [
    "def triangle_fs(t,n):   \n",
    "    tri = np.zeros(len(t)) #preallocate the output array\n",
    "    for h in np.arange(1,n,2):\n",
    "        tri += (-1)**((h-1)/2)*np.sin(2*np.pi*h*(t+0.75))/h**2\n",
    "    return (8/np.pi**2)*tri\n",
    "\n",
    "def squre_fs(t,n):\n",
    "    sq = np.zeros(len(t)) #preallocate the output array\n",
    "    for h in np.arange(1,n,2):\n",
    "        sq += (4/(np.pi*h))*np.sin(2*np.pi*h*t)\n",
    "    return sq"
   ]
  },
  {
   "cell_type": "markdown",
   "metadata": {},
   "source": [
    "## creating object and combining them into dictionary"
   ]
  },
  {
   "cell_type": "code",
   "execution_count": 5,
   "metadata": {},
   "outputs": [],
   "source": [
    "triange = fs_shape(\"triangle\",triangle,triangle_fs)\n",
    "sqr = fs_shape(\"square\",sqwave,squre_fs)\n",
    "shape_dict = {triange.name:triange,sqr.name:sqr}"
   ]
  },
  {
   "cell_type": "markdown",
   "metadata": {},
   "source": [
    "## ploting dynamicly"
   ]
  },
  {
   "cell_type": "code",
   "execution_count": 6,
   "metadata": {},
   "outputs": [
    {
     "data": {
      "application/vnd.jupyter.widget-view+json": {
       "model_id": "537cf7cf47fc4229827f7d3a1fb587d2",
       "version_major": 2,
       "version_minor": 0
      },
      "text/plain": [
       "interactive(children=(Dropdown(description='shape', options=('triangle', 'square'), value='triangle'), IntSlid…"
      ]
     },
     "metadata": {},
     "output_type": "display_data"
    }
   ],
   "source": [
    "@interact_manual\n",
    "def plow_fs_shapes(shape = shape_dict.keys(),n=(0,100)):\n",
    "    fig, ax = plt.subplots()\n",
    "    ax.plot(t,shape_dict[shape].source(t),t,shape_dict[shape].fs(t,n))"
   ]
  },
  {
   "cell_type": "code",
   "execution_count": 7,
   "metadata": {},
   "outputs": [
    {
     "data": {
      "application/vnd.jupyter.widget-view+json": {
       "model_id": "c309b25d1ef744e589dc721fddeec3ed",
       "version_major": 2,
       "version_minor": 0
      },
      "text/plain": [
       "interactive(children=(Play(value=0, description='n', interval=500, max=12), Output()), _dom_classes=('widget-i…"
      ]
     },
     "metadata": {},
     "output_type": "display_data"
    }
   ],
   "source": [
    "\n",
    "def on_value_change(n):\n",
    "    fig, ax = plt.subplots()\n",
    "    ax.plot(t,shape_dict[\"triangle\"].source(t),t,shape_dict[\"triangle\"].fs(t,n))\n",
    "    plt.xlabel(\"$n=\"+str(n)+\"$\")\n",
    "\n",
    "interactive(on_value_change, n=Play(value=0, min=0, max=12, step=1,interval=500))"
   ]
  },
  {
   "cell_type": "code",
   "execution_count": 17,
   "metadata": {},
   "outputs": [
    {
     "data": {
      "application/vnd.jupyter.widget-view+json": {
       "model_id": "c4e7bcdd9bef4a109634c3988c57310f",
       "version_major": 2,
       "version_minor": 0
      },
      "text/plain": [
       "Figure(animation_duration=400, axes=[Axis(scale=LinearScale()), Axis(orientation='vertical', scale=LinearScale…"
      ]
     },
     "metadata": {},
     "output_type": "display_data"
    },
    {
     "data": {
      "application/vnd.jupyter.widget-view+json": {
       "model_id": "c3d5637c2eff45008f299beab2e36a50",
       "version_major": 2,
       "version_minor": 0
      },
      "text/plain": [
       "interactive(children=(Play(value=0, description='n', interval=500, max=150), Output()), _dom_classes=('widget-…"
      ]
     },
     "metadata": {},
     "output_type": "display_data"
    }
   ],
   "source": [
    "import bqplot.pyplot as plt\n",
    "\n",
    "fig = plt.figure(animation_duration=400)\n",
    "lines1 = plt.plot(x=t, y=shape_dict[\"square\"].source(t))\n",
    "lines2 = plt.plot(x=t, y=np.zeros(len(t)))\n",
    "display(fig)\n",
    "def on_value_change(n):\n",
    "    \n",
    "    lines2.y = shape_dict[\"square\"].fs(t,n)\n",
    "    #plt.xlabel(\"$n=\"+str(n)+\"$\")\n",
    "\n",
    "interactive(on_value_change, n=Play(value=0, min=0, max=150, step=1,interval=500))"
   ]
  },
  {
   "cell_type": "code",
   "execution_count": null,
   "metadata": {},
   "outputs": [],
   "source": []
  }
 ],
 "metadata": {
  "kernelspec": {
   "display_name": "Python 3",
   "language": "python",
   "name": "python3"
  },
  "language_info": {
   "codemirror_mode": {
    "name": "ipython",
    "version": 3
   },
   "file_extension": ".py",
   "mimetype": "text/x-python",
   "name": "python",
   "nbconvert_exporter": "python",
   "pygments_lexer": "ipython3",
   "version": "3.7.4"
  }
 },
 "nbformat": 4,
 "nbformat_minor": 2
}
