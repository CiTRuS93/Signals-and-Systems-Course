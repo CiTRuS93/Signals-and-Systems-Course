{
 "cells": [
  {
   "cell_type": "code",
   "execution_count": 1,
   "metadata": {},
   "outputs": [],
   "source": [
    "import numpy as np\n",
    "import matplotlib.pyplot as plt\n",
    "from ipywidgets import interact, interactive, fixed, interact_manual,FloatSlider\n",
    "from matplotlib.ticker import (MultipleLocator, FormatStrFormatter,\n",
    "                               AutoMinorLocator)\n",
    "from scipy import signal"
   ]
  },
  {
   "cell_type": "code",
   "execution_count": 23,
   "metadata": {},
   "outputs": [
    {
     "data": {
      "application/vnd.jupyter.widget-view+json": {
       "model_id": "43bcf3d40aa5499fa3cc0a769a3006a6",
       "version_major": 2,
       "version_minor": 0
      },
      "text/plain": [
       "interactive(children=(IntSlider(value=50, description='n'), Button(description='Run Interact', style=ButtonSty…"
      ]
     },
     "metadata": {},
     "output_type": "display_data"
    }
   ],
   "source": [
    "t = np.linspace(0,2,201) #two cycles, 100 points each\n",
    "sqwave = np.sign(np.sin(2*np.pi*t)) #an actual square wave\n",
    "@interact_manual\n",
    "def fs(n=(0,100)):\n",
    "    n = int(n)\n",
    "    sq = np.zeros(len(t)) #preallocate the output array\n",
    "    for h in np.arange(1,n,2):\n",
    "        sq += (4/(np.pi*h))*np.sin(2*np.pi*h*t)\n",
    "    fig, ax = plt.subplots()\n",
    "    ax.plot(t,sq, t,sqwave)\n"
   ]
  },
  {
   "cell_type": "code",
   "execution_count": 25,
   "metadata": {
    "scrolled": false
   },
   "outputs": [
    {
     "data": {
      "application/vnd.jupyter.widget-view+json": {
       "model_id": "8b856d6ce7ca447ea7ab566c887afb3c",
       "version_major": 2,
       "version_minor": 0
      },
      "text/plain": [
       "interactive(children=(IntSlider(value=20, description='N', max=40), IntSlider(value=25, description='M', max=5…"
      ]
     },
     "metadata": {},
     "output_type": "display_data"
    }
   ],
   "source": [
    "@interact_manual\n",
    "def square_dfs(N=(0,40),M=(0,50)):\n",
    "    %matplotlib notebook\n",
    "    n = range(-30,30)\n",
    "    sqr = lambda x:1 if 0<=(x+M)%N<=2*M else  0\n",
    "    c0 = [sqr(i) for i in n]\n",
    "    fig, ax = plt.subplots()\n",
    "    ax.stem(n,c0, use_line_collection=True)\n",
    "    k = np.array(range(-10,11))\n",
    "    ak = lambda k: np.sin((2*np.pi*k/N)*(M+0.5))/(N*np.sin((2*np.pi*k)/(2*N))) if k%N!=0 else (2*M+1)/N\n",
    "\n",
    "    C0 = [ak(i) for i in k]\n",
    "\n",
    "\n",
    "    fig, ax = plt.subplots()\n",
    "    ax.stem(k,C0, use_line_collection=True)\n",
    "    plt.xlabel(\"$ 2*\\pi/N$\")"
   ]
  },
  {
   "cell_type": "code",
   "execution_count": 50,
   "metadata": {},
   "outputs": [
    {
     "data": {
      "application/vnd.jupyter.widget-view+json": {
       "model_id": "8813fc9535834fc4b0ab5bd37f25f05e",
       "version_major": 2,
       "version_minor": 0
      },
      "text/plain": [
       "interactive(children=(FloatSlider(value=0.1, description='$w_0\\\\pi$', max=1.0, min=0.1, step=0.001), Button(de…"
      ]
     },
     "metadata": {},
     "output_type": "display_data"
    }
   ],
   "source": [
    "@interact_manual\n",
    "def triangle(w=FloatSlider(min=0.1,max=1,step=0.001,description='$w_0\\pi$')):\n",
    "    t = np.linspace(-2*np.pi, 2*np.pi, 500)\n",
    "    w0=w*np.pi\n",
    "    tr = lambda x: max((w0-abs(x))/w0,0)\n",
    "    \n",
    "    \n",
    "    mtri = [tr(i-2*np.pi*round(i/(2*np.pi))) for i in t]\n",
    "    #print([i%(np.pi) for i in t])\n",
    "    fig, ax = plt.subplots()\n",
    "    ax.plot(t/np.pi,mtri)\n",
    "    plt.xlabel(\"$\\omega$\")\n",
    "    plt.ylabel(\"$X_0 (e^j\\omega)$\")"
   ]
  },
  {
   "cell_type": "code",
   "execution_count": 45,
   "metadata": {},
   "outputs": [
    {
     "data": {
      "application/vnd.jupyter.widget-view+json": {
       "model_id": "983e647fd4ec433a8e9b1b6cc939601b",
       "version_major": 2,
       "version_minor": 0
      },
      "text/plain": [
       "interactive(children=(FloatSlider(value=0.0, description='n', max=14.0, step=2.0), Button(description='Run Int…"
      ]
     },
     "metadata": {},
     "output_type": "display_data"
    }
   ],
   "source": [
    "t = np.linspace(0, 3, 500)\n",
    "triangle = signal.sawtooth(2 * np.pi  * t, 0.5)\n",
    "@interact_manual\n",
    "def fs(n=FloatSlider(min=0,max=14,step=2,value=0)):\n",
    "    n = int(n)\n",
    "    sq = np.zeros(len(t)) #preallocate the output array\n",
    "    for h in np.arange(1,n,2):\n",
    "        sq += (-1)**((h-1)/2)*np.sin(2*np.pi*h*(t+0.75))/h**2\n",
    "    fig, ax = plt.subplots()\n",
    "    ax.plot( t,triangle,t,(8/np.pi**2)*sq)\n",
    "    ax.grid(True, which='both')"
   ]
  },
  {
   "cell_type": "code",
   "execution_count": 49,
   "metadata": {
    "scrolled": false
   },
   "outputs": [
    {
     "data": {
      "application/vnd.jupyter.widget-view+json": {
       "model_id": "f7f3e86e13de45cf8a097fe3dfb27ba6",
       "version_major": 2,
       "version_minor": 0
      },
      "text/plain": [
       "interactive(children=(Button(description='Run Interact', style=ButtonStyle()), Output()), _dom_classes=('widge…"
      ]
     },
     "metadata": {},
     "output_type": "display_data"
    }
   ],
   "source": [
    "N=10\n",
    "M=2\n",
    "w0=0.2*np.pi\n",
    "ak = lambda k: np.sin((2*np.pi*k/N)*(M+0.5))/(N*np.sin((2*np.pi*k)/(2*N))) if k%N!=0 else (2*M+1)/N\n",
    "tr = lambda x: max((w0-abs(x-2*np.pi*round(x/(2*np.pi))))/w0,0)\n",
    "@interact_manual\n",
    "def Yl():\n",
    "    k=range(0,10)\n",
    "    fig, ax = plt.subplots()\n",
    "    ax.plot(k,[tr(i/5)*ak(i) for i in k])"
   ]
  },
  {
   "cell_type": "code",
   "execution_count": null,
   "metadata": {},
   "outputs": [],
   "source": []
  }
 ],
 "metadata": {
  "kernelspec": {
   "display_name": "Python 3",
   "language": "python",
   "name": "python3"
  },
  "language_info": {
   "codemirror_mode": {
    "name": "ipython",
    "version": 3
   },
   "file_extension": ".py",
   "mimetype": "text/x-python",
   "name": "python",
   "nbconvert_exporter": "python",
   "pygments_lexer": "ipython3",
   "version": "3.7.4"
  }
 },
 "nbformat": 4,
 "nbformat_minor": 2
}
