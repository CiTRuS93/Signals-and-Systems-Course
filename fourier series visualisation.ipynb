{
 "cells": [
  {
   "cell_type": "code",
   "execution_count": 24,
   "metadata": {},
   "outputs": [],
   "source": [
    "import numpy as np\n",
    "import matplotlib.pyplot as plt\n",
    "from ipywidgets import interact, interactive, fixed, interact_manual\n",
    "from matplotlib.ticker import (MultipleLocator, FormatStrFormatter,\n",
    "                               AutoMinorLocator)"
   ]
  },
  {
   "cell_type": "code",
   "execution_count": 25,
   "metadata": {},
   "outputs": [
    {
     "data": {
      "text/plain": [
       "[<matplotlib.lines.Line2D at 0x1d8b9eaf748>]"
      ]
     },
     "execution_count": 25,
     "metadata": {},
     "output_type": "execute_result"
    },
    {
     "data": {
      "image/png": "[encoded data removed]",
      "text/plain": [
       "<Figure size 432x288 with 1 Axes>"
      ]
     },
     "metadata": {
      "needs_background": "light"
     },
     "output_type": "display_data"
    }
   ],
   "source": [
    "t = np.linspace(0,2,201) #two cycles, 100 points each\n",
    "sqwave = np.sign(np.sin(2*np.pi*t)) #an actual square wave\n",
    "fig, ax = plt.subplots()\n",
    "ax.plot(t,sqwave)"
   ]
  },
  {
   "cell_type": "code",
   "execution_count": 26,
   "metadata": {},
   "outputs": [
    {
     "data": {
      "application/vnd.jupyter.widget-view+json": {
       "model_id": "f603e8c9570646a5a233c93ccd4b5ca8",
       "version_major": 2,
       "version_minor": 0
      },
      "text/plain": [
       "interactive(children=(Text(value='', description='n'), Button(description='Run Interact', style=ButtonStyle())…"
      ]
     },
     "metadata": {},
     "output_type": "display_data"
    }
   ],
   "source": [
    "@interact_manual\n",
    "def fs(n=\"\"):\n",
    "    n = int(n)\n",
    "    sq = np.zeros(len(t)) #preallocate the output array\n",
    "    for h in np.arange(1,n,2):\n",
    "        sq += (4/(np.pi*h))*np.sin(2*np.pi*h*t)\n",
    "    fig, ax = plt.subplots()\n",
    "    ax.plot(t,sq, t,sqwave)\n"
   ]
  },
  {
   "cell_type": "code",
   "execution_count": 35,
   "metadata": {
    "scrolled": false
   },
   "outputs": [
    {
     "data": {
      "application/vnd.jupyter.widget-view+json": {
       "model_id": "1680c830c03c45378b00ba9804a61dc7",
       "version_major": 2,
       "version_minor": 0
      },
      "text/plain": [
       "interactive(children=(IntSlider(value=20, description='N', max=40), IntSlider(value=25, description='M', max=5…"
      ]
     },
     "metadata": {},
     "output_type": "display_data"
    }
   ],
   "source": [
    "@interact_manual\n",
    "def square_dfs(N=(0,40),M=(0,50)):\n",
    "    n = range(-30,30)\n",
    "    sqr = lambda x:1 if 0<=(x+M)%N<=2*M else  0\n",
    "    c0 = [sqr(i) for i in n]\n",
    "    fig, ax = plt.subplots()\n",
    "    ax.stem(n,c0)\n",
    "    k = np.array(range(-10,11))\n",
    "    ak = lambda k: np.sin((2*np.pi*k/N)*(M+0.5))/(N*np.sin((2*np.pi*k)/(2*N))) if k%N!=0 else (2*M+1)/N\n",
    "\n",
    "    C0 = [ak(i) for i in k]\n",
    "\n",
    "\n",
    "    fig, ax = plt.subplots()\n",
    "    ax.stem(k,C0)\n",
    "    plt.xlabel(\"$ 2*\\pi/N$\")"
   ]
  },
  {
   "cell_type": "code",
   "execution_count": null,
   "metadata": {},
   "outputs": [],
   "source": []
  }
 ],
 "metadata": {
  "kernelspec": {
   "display_name": "Python 3",
   "language": "python",
   "name": "python3"
  },
  "language_info": {
   "codemirror_mode": {
    "name": "ipython",
    "version": 3
   },
   "file_extension": ".py",
   "mimetype": "text/x-python",
   "name": "python",
   "nbconvert_exporter": "python",
   "pygments_lexer": "ipython3",
   "version": "3.7.4"
  }
 },
 "nbformat": 4,
 "nbformat_minor": 2
}
