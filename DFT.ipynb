{
 "cells": [
  {
   "cell_type": "code",
   "execution_count": 1,
   "metadata": {},
   "outputs": [],
   "source": [
    "from scipy import signal\n",
    "from scipy.signal import kaiserord, lfilter, firwin, freqz\n",
    "\n",
    "import librosa\n",
    "import matplotlib.pyplot as plt\n",
    "\n",
    "import numpy as np\n",
    "from ipywidgets import  interactive,    Play,interact_manual,FloatSlider\n",
    "from matplotlib.ticker import ( FormatStrFormatter )\n",
    "from IPython.display import (\n",
    "    Audio, display )\n",
    "plt.rcParams['axes.grid'] = True\n",
    "from frequency_waves import get_wave,nice_wave,square,triangle,circle,dirac\n",
    "import frequency_waves\n",
    "from Util import fold_and_dft, drop_every_kth, zero_padding, v_to_db ,decimate_in_k"
   ]
  },
  {
   "cell_type": "code",
   "execution_count": 2,
   "metadata": {},
   "outputs": [],
   "source": [
    "%matplotlib notebook"
   ]
  },
  {
   "cell_type": "code",
   "execution_count": 3,
   "metadata": {},
   "outputs": [],
   "source": [
    "fs = 44100\n",
    "t = np.linspace(0,1,fs)\n",
    "waves_dict = {\n",
    "    'square':square(t,0,0.001,1),\n",
    "    'triangle':triangle(t,0.001,0.001,1),\n",
    "    'circle':circle(t,0.001,0.001,1)*1000,\n",
    "    'dirac':dirac(t,0,1/fs,0.05)\n",
    "}\n",
    "\n",
    "ax_freq = np.arange(0,2*np.pi,2*np.pi/fs)"
   ]
  },
  {
   "cell_type": "code",
   "execution_count": null,
   "metadata": {},
   "outputs": [],
   "source": []
  },
  {
   "cell_type": "code",
   "execution_count": 4,
   "metadata": {
    "scrolled": false
   },
   "outputs": [
    {
     "data": {
      "application/vnd.jupyter.widget-view+json": {
       "model_id": "a3c9d2ac148e4f498d061e3027455bfd",
       "version_major": 2,
       "version_minor": 0
      },
      "text/plain": [
       "interactive(children=(Dropdown(description='x1_name', options=('square', 'triangle', 'circle', 'dirac'), value…"
      ]
     },
     "metadata": {},
     "output_type": "display_data"
    }
   ],
   "source": [
    "@interact_manual\n",
    "def linearity(x1_name = waves_dict.keys(),x2_name = waves_dict.keys(),A=(0,50),B=(0,50)):\n",
    "    fig,ax=plt.subplots(4,constrained_layout=True)\n",
    "    fig.tight_layout(pad=0.5)\n",
    "    fig.suptitle('linearity of '+x1_name+' wave and '+x2_name + ' wave',y= 1)\n",
    "    x1=waves_dict.get(x1_name)\n",
    "    x2=waves_dict.get(x2_name)\n",
    "    ax[0].plot(t,x1,t,x2)\n",
    "    \n",
    "    ax[0].set_xlim([0,0.01])\n",
    "    ax[1].plot(ax_freq,np.fft.fft(x1),ax_freq,np.fft.fft(x2))\n",
    "    \n",
    "    ax[2].plot(t,A*x1+B*x2)\n",
    "    \n",
    "    ax[2].set_xlim([0,0.01])\n",
    "    ax[3].plot(ax_freq,np.fft.fft(A*x1+B*x2))\n",
    "    ax[0].legend([x1_name,x2_name])\n",
    "    ax[1].legend([x1_name+'_dft',x2_name+'_dft'])\n",
    "    ax[2].legend([str(A)+'*'+x1_name+'+'+str(B)+'*'+x2_name])\n",
    "    ax[3].legend([str(A)+'*'+x1_name+'+'+str(B)+'*'+x2_name+'_dft'])"
   ]
  },
  {
   "cell_type": "code",
   "execution_count": 12,
   "metadata": {},
   "outputs": [
    {
     "data": {
      "application/vnd.jupyter.widget-view+json": {
       "model_id": "375fe53f1f544d95b13c3fde443ea9c9",
       "version_major": 2,
       "version_minor": 0
      },
      "text/plain": [
       "interactive(children=(Dropdown(description='x1_name', options=('square', 'triangle', 'circle', 'dirac'), value…"
      ]
     },
     "metadata": {},
     "output_type": "display_data"
    }
   ],
   "source": [
    "@interact_manual\n",
    "def convulotion(x1_name = waves_dict.keys(),x2_name = waves_dict.keys()):\n",
    "    fig,ax=plt.subplots(4)\n",
    "    fig.tight_layout(pad=0.5)\n",
    "    fig.suptitle('convulotion of '+x1_name+' wave and '+x2_name + ' wave',y= 1)\n",
    "    x1=waves_dict.get(x1_name)\n",
    "    x2=waves_dict.get(x2_name)\n",
    "    conv = np.convolve(x1,x2,mode='same')\n",
    "    ax[0].plot(t,x1,t,x2)\n",
    "    ax[0].set_xlim([0,0.01])\n",
    "    ax[1].plot(ax_freq,np.fft.fft(x1),ax_freq,np.fft.fft(x2))\n",
    "    ax[2].plot(t,conv)\n",
    "    #ax[2].set_xlim([0,0.01])\n",
    "    ax[3].plot(ax_freq,np.fft.fft(conv))\n",
    "    ax[0].legend([x1_name,x2_name])\n",
    "    ax[1].legend([x1_name+'_dft',x2_name+'_dft'])\n",
    "    ax[2].legend([x1_name+'$*$'+x2_name])\n",
    "    ax[3].legend([x1_name+'$*$ '+x2_name+'_dft'])"
   ]
  },
  {
   "cell_type": "code",
   "execution_count": 6,
   "metadata": {},
   "outputs": [
    {
     "data": {
      "application/vnd.jupyter.widget-view+json": {
       "model_id": "9374f97d0ef843bd81ebf4f9b7d20623",
       "version_major": 2,
       "version_minor": 0
      },
      "text/plain": [
       "interactive(children=(Dropdown(description='x1_name', options=('square', 'triangle', 'circle', 'dirac'), value…"
      ]
     },
     "metadata": {},
     "output_type": "display_data"
    }
   ],
   "source": [
    "@interact_manual\n",
    "def multipication(x1_name = waves_dict.keys(),x2_name = waves_dict.keys()):\n",
    "    fig,ax=plt.subplots(4)\n",
    "    fig.tight_layout(pad=0.5)\n",
    "    fig.suptitle('multipication of '+x1_name+' wave and '+x2_name + ' wave',y= 1)\n",
    "    x1=waves_dict.get(x1_name)\n",
    "    x2=waves_dict.get(x2_name)\n",
    "    mul = x1*x2\n",
    "    ax[0].plot(t,x1,t,x2)\n",
    "    ax[0].set_xlim([0,0.01])\n",
    "    ax[1].plot(ax_freq,np.fft.fft(x1),ax_freq,np.fft.fft(x2))\n",
    "    ax[2].plot(t,mul)\n",
    "    ax[2].set_xlim([0,0.01])\n",
    "    ax[3].plot(ax_freq,np.fft.fft(mul))\n",
    "    ax[0].legend([x1_name,x2_name])\n",
    "    ax[1].legend([x1_name+'_dft',x2_name+'_dft'])\n",
    "    ax[2].legend([x1_name+'$\\times$'+x2_name])\n",
    "    ax[3].legend([x1_name+'$\\times$'+x2_name+'_dft'])"
   ]
  },
  {
   "cell_type": "code",
   "execution_count": 7,
   "metadata": {},
   "outputs": [
    {
     "data": {
      "application/vnd.jupyter.widget-view+json": {
       "model_id": "fd5a7df511624bacb203c9f613e2687f",
       "version_major": 2,
       "version_minor": 0
      },
      "text/plain": [
       "interactive(children=(Dropdown(description='x1_name', options=('square', 'triangle', 'circle', 'dirac'), value…"
      ]
     },
     "metadata": {},
     "output_type": "display_data"
    }
   ],
   "source": [
    "\n",
    "\n",
    "@interact_manual\n",
    "def modulation(x1_name = waves_dict.keys(),fi=FloatSlider(min=0,max=np.pi,step = 0.001)):\n",
    "    fig,ax=plt.subplots(4)\n",
    "    fig.tight_layout(pad=0.5)\n",
    "    fig.suptitle('modulation of '+x1_name+' wave and $\\phi$',y= 1)\n",
    "    x1=waves_dict.get(x1_name)\n",
    "    mod = x1*np.exp(np.array([np.complex(0,fi*x)for x in t]))\n",
    "    ax[0].plot(t,x1)\n",
    "    ax[0].set_xlim([0,0.01])\n",
    "    ax[1].plot(ax_freq,np.fft.fft(x1))\n",
    "    ax[2].plot(t,mod)\n",
    "    ax[3].plot(ax_freq,np.fft.fft(mod))\n",
    "    ax[0].legend([x1_name])\n",
    "    ax[1].legend([x1_name+'_dft'])\n",
    "    ax[2].legend([x1_name+'$\\cdot e^{j\\phi}$'])\n",
    "    ax[3].legend([x1_name+'$\\cdot e^{j\\phi}$'+'_dft'])"
   ]
  },
  {
   "cell_type": "code",
   "execution_count": 8,
   "metadata": {},
   "outputs": [],
   "source": [
    "c = 3 +6j"
   ]
  },
  {
   "cell_type": "code",
   "execution_count": null,
   "metadata": {},
   "outputs": [],
   "source": []
  },
  {
   "cell_type": "code",
   "execution_count": null,
   "metadata": {},
   "outputs": [],
   "source": []
  },
  {
   "cell_type": "code",
   "execution_count": null,
   "metadata": {},
   "outputs": [],
   "source": []
  }
 ],
 "metadata": {
  "kernelspec": {
   "display_name": "Python 3",
   "language": "python",
   "name": "python3"
  },
  "language_info": {
   "codemirror_mode": {
    "name": "ipython",
    "version": 3
   },
   "file_extension": ".py",
   "mimetype": "text/x-python",
   "name": "python",
   "nbconvert_exporter": "python",
   "pygments_lexer": "ipython3",
   "version": "3.7.4"
  }
 },
 "nbformat": 4,
 "nbformat_minor": 2
}
