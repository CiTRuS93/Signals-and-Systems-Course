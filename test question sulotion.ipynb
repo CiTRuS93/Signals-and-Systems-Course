{
 "cells": [
  {
   "cell_type": "code",
   "execution_count": 1,
   "metadata": {},
   "outputs": [],
   "source": [
    "import numpy as np\n",
    "import matplotlib.pyplot as plt\n",
    "from ipywidgets import interact, interactive, fixed, interact_manual,FloatSlider\n",
    "from matplotlib.ticker import (MultipleLocator, FormatStrFormatter,\n",
    "                               AutoMinorLocator)\n",
    "from scipy import signal\n",
    "plt.rcParams['axes.grid'] = True"
   ]
  },
  {
   "cell_type": "markdown",
   "metadata": {},
   "source": [
    "## define our c0 function"
   ]
  },
  {
   "cell_type": "code",
   "execution_count": 2,
   "metadata": {},
   "outputs": [],
   "source": [
    "sqr = lambda x,M,N:1 if 0<=(x+M)%N<=2*M else  0"
   ]
  },
  {
   "cell_type": "markdown",
   "metadata": {},
   "source": [
    "## define $a_k$ for C0 (c0 after the fourier tranform)\n",
    "\n",
    "$\n",
    " a_k = \n",
    "  \\begin{cases} \n",
    "   \\\\  \\frac {sin(\\frac{2\\pi k}{N}(M+\\frac{1}{2})}{N sin(\\frac{2\\pi k}{2N}) }& \\text{if } k \\neq 0,\\pm N, \\pm 2N, ...\\\\\n",
    "   \\frac{2M+1}{N}       & \\text{if } k = 0,\\pm N,\\pm 2N ,...\n",
    "  \\end{cases}\n",
    "$"
   ]
  },
  {
   "cell_type": "code",
   "execution_count": 3,
   "metadata": {},
   "outputs": [],
   "source": [
    "ak = lambda k,M,N: np.sin((2*np.pi*k/N)*(M+0.5))/(N*np.sin((2*np.pi*k)/(2*N))) if k%N!=0 else (2*M+1)/N"
   ]
  },
  {
   "cell_type": "markdown",
   "metadata": {},
   "source": [
    "## creating a triangle wave for X0"
   ]
  },
  {
   "cell_type": "code",
   "execution_count": 4,
   "metadata": {},
   "outputs": [],
   "source": [
    "tr = lambda x,a: max((a-abs(x))/a,0)\n",
    "triangle_k = lambda t_arr,k,a: [tr(x-2*k*np.pi,a) for x in t_arr]\n",
    "def repiting_triangle(omega,w0,N):\n",
    "    mtri = np.zeros(len(omega))\n",
    "    for arr in [triangle_k(omega,k,w0) for k in range(0,int(N*np.pi))]:\n",
    "        mtri = np.add(mtri,arr)\n",
    "    return mtri\n"
   ]
  },
  {
   "cell_type": "markdown",
   "metadata": {},
   "source": [
    "## convulotion between X0 and C0"
   ]
  },
  {
   "cell_type": "code",
   "execution_count": 5,
   "metadata": {},
   "outputs": [],
   "source": [
    "tr_ak = lambda w,a,N:tr(w-2*np.pi/N*round(i/(2*np.pi/N)),w0)*ak(round(i/(2*np.pi/N)))\n",
    "def x_and_c_convelotion(omega,w0,N,M):\n",
    "    Y=[]\n",
    "    \n",
    "    for i in omega:\n",
    "        r = tr(i-2*np.pi/N*round(i/(2*np.pi/N)),w0)\n",
    "        ma=ak(round(abs(i/(2*np.pi/N))),M,N)\n",
    "        Y.append(r*ma)\n",
    "    return Y"
   ]
  },
  {
   "cell_type": "markdown",
   "metadata": {},
   "source": [
    "## ploting c0 and C0\n"
   ]
  },
  {
   "cell_type": "code",
   "execution_count": 6,
   "metadata": {},
   "outputs": [
    {
     "data": {
      "application/vnd.jupyter.widget-view+json": {
       "model_id": "38afe42c9e3546b09ffa3c06b18c59a2",
       "version_major": 2,
       "version_minor": 0
      },
      "text/plain": [
       "interactive(children=(IntSlider(value=20, description='N', max=40), IntSlider(value=25, description='M', max=5…"
      ]
     },
     "metadata": {},
     "output_type": "display_data"
    }
   ],
   "source": [
    "@interact_manual\n",
    "def square_dfs(N=(0,40),M=(0,50)):\n",
    "    %matplotlib notebook\n",
    "    n = range(-30,30)\n",
    "    c0 = [sqr(i,M,N) for i in n]\n",
    "    fig, ax = plt.subplots(2)\n",
    "    ax[0].stem(n,c0, use_line_collection=True)\n",
    "    k = np.array(range(-10,11))\n",
    "    C0 = [ak(i,M,N) for i in k]\n",
    "    ax[1].stem(k,C0, use_line_collection=True)\n",
    "    plt.xlabel(\"$ 2*\\pi/N$\")"
   ]
  },
  {
   "cell_type": "markdown",
   "metadata": {},
   "source": [
    "## ploting X0"
   ]
  },
  {
   "cell_type": "code",
   "execution_count": 7,
   "metadata": {},
   "outputs": [
    {
     "data": {
      "application/vnd.jupyter.widget-view+json": {
       "model_id": "615ea7ee36724eab9446f15ca0019288",
       "version_major": 2,
       "version_minor": 0
      },
      "text/plain": [
       "interactive(children=(FloatSlider(value=0.1, description='$w_0\\\\pi$', max=2.0, min=0.1, step=0.001), IntSlider…"
      ]
     },
     "metadata": {},
     "output_type": "display_data"
    }
   ],
   "source": [
    "\n",
    "@interact_manual\n",
    "def triangle(w=FloatSlider(min=0.1,max=2,step=0.001,description='$w_0\\pi$') ,N=(0,10)):\n",
    "    om = np.linspace(0, N*np.pi,1007)\n",
    "    w0=w*np.pi\n",
    "    triangles = repiting_triangle(om,w0,N)\n",
    "    fig, ax = plt.subplots()\n",
    "    ax.plot(om/np.pi,triangles)\n",
    "    plt.xlabel(\"$\\omega$\")\n",
    "    plt.ylabel(\"$X_0 (e^j\\omega)$\")\n",
    "    plt.ylim(-0.1,1.1)"
   ]
  },
  {
   "cell_type": "markdown",
   "metadata": {},
   "source": [
    "## ploting     $Y_0 = $$\\sum_{k=0}^{N-1} a_kX_0(e^{(j^{\\omega-k\\frac{2\\pi}{N}})})$"
   ]
  },
  {
   "cell_type": "code",
   "execution_count": 8,
   "metadata": {
    "scrolled": false
   },
   "outputs": [
    {
     "data": {
      "application/vnd.jupyter.widget-view+json": {
       "model_id": "e79f62e207764391acc718c9e66baff3",
       "version_major": 2,
       "version_minor": 0
      },
      "text/plain": [
       "interactive(children=(IntSlider(value=20, description='N', max=40), IntSlider(value=25, description='M', max=5…"
      ]
     },
     "metadata": {},
     "output_type": "display_data"
    }
   ],
   "source": [
    "\n",
    "@interact_manual\n",
    "def Yl(N=(0,40),M=(0,50),w0=FloatSlider(min=0.1,max=1,step=0.001,description='$w_0\\pi$')):\n",
    "    \n",
    "    \n",
    "    w0 = w0*np.pi\n",
    "    k=range(0,N)\n",
    "    w=np.linspace(-2*np.pi,2*np.pi,1000)\n",
    "    fig, ax = plt.subplots()\n",
    "    \n",
    "\n",
    "    Y=x_and_c_convelotion(w,w0,N,M)\n",
    "    ax.plot(w,Y)\n",
    "    k = np.array(range(-10,11))\n"
   ]
  },
  {
   "cell_type": "markdown",
   "metadata": {},
   "source": [
    "## ploting summary"
   ]
  },
  {
   "cell_type": "code",
   "execution_count": 9,
   "metadata": {},
   "outputs": [
    {
     "data": {
      "application/vnd.jupyter.widget-view+json": {
       "model_id": "7ef0ee3f6b28481d9d193b7454eb271b",
       "version_major": 2,
       "version_minor": 0
      },
      "text/plain": [
       "interactive(children=(IntSlider(value=20, description='N', max=40), IntSlider(value=25, description='M', max=5…"
      ]
     },
     "metadata": {},
     "output_type": "display_data"
    }
   ],
   "source": [
    "@interact_manual\n",
    "def plot_all(N=(0,40),M=(0,50),w0=FloatSlider(min=0.1,max=1,step=0.001,description='$w_0\\pi$')):\n",
    " \n",
    "    w0 = w0*np.pi\n",
    "    k=range(0,N)\n",
    "    w=np.linspace(-2*np.pi,2*np.pi,1000)\n",
    "\n",
    "    %matplotlib notebook\n",
    "    \n",
    "    \n",
    "    \n",
    "    n = range(-30,30)\n",
    "    c0 = [sqr(i,M,N) for i in n]\n",
    "    \n",
    "    k = np.array(range(-10,11))\n",
    "    C0 = [ak(i,M,N) for i in k]\n",
    "    \n",
    "    triangles = repiting_triangle(w,w0,N)\n",
    "    \n",
    "    \n",
    "    Y=x_and_c_convelotion(w,w0,N,M)\n",
    "    \n",
    "    \n",
    "    fig,((c0_plot, C0_plot), (X0_plot, Y0_plot)) = plt.subplots(2,2)\n",
    "    c0_plot.stem(n,c0, use_line_collection=True)\n",
    "    \n",
    "    C0_plot.stem(k,C0, use_line_collection=True)\n",
    "    \n",
    "    X0_plot.plot(w,triangles)\n",
    "    Y0_plot.plot(w,Y)\n",
    "    plt.xlabel(\"$ 2*\\pi/N$\")"
   ]
  },
  {
   "cell_type": "code",
   "execution_count": null,
   "metadata": {},
   "outputs": [],
   "source": []
  }
 ],
 "metadata": {
  "kernelspec": {
   "display_name": "Python 3",
   "language": "python",
   "name": "python3"
  },
  "language_info": {
   "codemirror_mode": {
    "name": "ipython",
    "version": 3
   },
   "file_extension": ".py",
   "mimetype": "text/x-python",
   "name": "python",
   "nbconvert_exporter": "python",
   "pygments_lexer": "ipython3",
   "version": "3.7.4"
  }
 },
 "nbformat": 4,
 "nbformat_minor": 2
}
